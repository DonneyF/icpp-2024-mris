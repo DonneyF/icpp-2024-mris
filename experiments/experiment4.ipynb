{
 "cells": [
  {
   "cell_type": "markdown",
   "source": [
    "# Experiment 4\n",
    "\n",
    "- Sweep over the number of resources for the Azure packing 2020 dataset\n",
    "- 20 machines\n",
    "- Fixed number of jobs, with skip factor\n",
    "- We fix the total number of jobs (4.096M jobs)\n",
    "- This looks at jobs with $r_\\text{max} = 12.3$\n",
    "- We observe a varying $p_\\text{max}$, but it is lower bounded by 73.819 days\n",
    "\n",
    "Schedulers:\n",
    "```\n",
    "schedulers = [\n",
    "        MRIS(sort='WSJF'),\n",
    "        PriorityQueueScheduler(sort='WSJF', online=True),\n",
    "        OnlinePriorityQueueScheduler(sort='WSJF'),\n",
    "        TetrisScheduler(),\n",
    "        BFEXECScheduler()\n",
    "]\n",
    "```"
   ],
   "metadata": {
    "collapsed": false
   },
   "id": "5ef558b93b6f4527"
  },
  {
   "cell_type": "code",
   "source": [
    "import pandas as pd\n",
    "import numpy as np\n",
    "import matplotlib.pyplot as plt\n",
    "import matplotlib as mpl\n",
    "import scienceplots\n",
    "import itertools"
   ],
   "metadata": {
    "collapsed": true
   },
   "id": "initial_id",
   "outputs": [],
   "execution_count": null
  },
  {
   "metadata": {},
   "cell_type": "code",
   "source": [
    "plt.style.use(['science'])\n",
    "params = {\n",
    "    \"font.family\": \"serif\",\n",
    "    \"text.usetex\": True,\n",
    "    'text.latex.preamble':\n",
    "        r\"\"\"\n",
    "        \\usepackage{libertine}\n",
    "        \\usepackage[libertine]{newtxmath}\n",
    "        \"\"\",\n",
    "}\n",
    "# https://matplotlib.org/stable/gallery/lines_bars_and_markers/linestyles.html\n",
    "def get_linestyles():\n",
    "     return itertools.cycle([\n",
    "         ('solid', (0, ())),\n",
    "         # ('loosely dotted',        (0, (1, 10))),\n",
    "         ('dotted',                (0, (1, 1))),\n",
    "         # ('densely dotted',        (0, (1, 1))),\n",
    "         ('long dash with offset', (5, (10, 3))),\n",
    "         ('loosely dashed',        (0, (5, 10))),\n",
    "         #('dashed',                (0, (5, 5))),\n",
    "         ('densely dashed',        (0, (5, 1))),\n",
    "    \n",
    "         #('loosely dashdotted',    (0, (3, 10, 1, 10))),\n",
    "         ('dashdotted',            (0, (3, 5, 1, 5))),\n",
    "         ('densely dashdotted',    (0, (3, 1, 1, 1))),\n",
    "    \n",
    "         ('dashdotdotted',         (0, (3, 5, 1, 5, 1, 5))),\n",
    "         ('loosely dashdotdotted', (0, (3, 10, 1, 10, 1, 10))),\n",
    "         ('densely dashdotdotted', (0, (3, 1, 1, 1, 1, 1)))\n",
    "    ])\n",
    "mpl.rcParams.update(params)"
   ],
   "id": "8158db8f9278f0cf",
   "outputs": [],
   "execution_count": null
  },
  {
   "cell_type": "code",
   "source": [
    "N = 4_096_000\n",
    "skip_factor = 128\n",
    "\n",
    "resources = np.arange(4, 20 + 1, dtype=int)"
   ],
   "metadata": {
    "collapsed": false
   },
   "id": "e6c1aa2e3a858d8e",
   "outputs": [],
   "execution_count": null
  },
  {
   "cell_type": "code",
   "source": "dfs = {R: pd.read_parquet(f'resource_sweep_azure_packing_2020_{N}_{skip_factor}_{R}.parquet') for R in resources}",
   "metadata": {
    "collapsed": false
   },
   "id": "ecbf8992e299b434",
   "outputs": [],
   "execution_count": null
  },
  {
   "cell_type": "code",
   "source": "dfs[resources[2]]['d'][0:100]",
   "metadata": {
    "collapsed": false
   },
   "id": "15ae7195cd3b89dc",
   "outputs": [],
   "execution_count": null
  },
  {
   "cell_type": "code",
   "source": [
    "schedulers = dfs[resources[0]]['scheduler'].unique()\n",
    "schedulers"
   ],
   "metadata": {
    "collapsed": false
   },
   "id": "b0c45332a07c5011",
   "outputs": [],
   "execution_count": null
  },
  {
   "cell_type": "markdown",
   "source": [
    "# Average Weighted Completion Time"
   ],
   "metadata": {
    "collapsed": false
   },
   "id": "2eb4da884d24777e"
  },
  {
   "cell_type": "code",
   "source": [
    "weighted_completion_time_data = {}\n",
    "for i, R in enumerate(resources):        \n",
    "    for scheduler in schedulers:\n",
    "        df = dfs[R]\n",
    "        df = df[df['scheduler'] == scheduler]\n",
    "        weighted_completion_time = df['C'].dot(df['w']) / len(df)\n",
    "        vals = weighted_completion_time_data.get(scheduler, np.zeros_like(resources).astype(float))\n",
    "        vals[i] = weighted_completion_time\n",
    "        weighted_completion_time_data[scheduler] = vals"
   ],
   "metadata": {
    "collapsed": false
   },
   "id": "d5b19520f67cc23",
   "outputs": [],
   "execution_count": null
  },
  {
   "cell_type": "code",
   "source": [
    "plt.figure(figsize=(6, 2), dpi=200)\n",
    "linestyles = get_linestyles()\n",
    "for scheduler, weighted_completion_times in weighted_completion_time_data.items():\n",
    "    if scheduler == 'Tetris-instantaneous':\n",
    "        scheduler = r'\\textsc{Tetris}'\n",
    "    plt.plot(resources, weighted_completion_times, label=scheduler, linestyle=next(linestyles)[1], linewidth=1)\n",
    "#plt.xscale('log')\n",
    "#plt.xticks(resources, resources, rotation=90)\n",
    "plt.yticks(list(range(15, 37, 5)))\n",
    "plt.ylim(11, 37)\n",
    "# plt.yscale('log', base=2)\n",
    "# plt.title(rf'Sweep Over Number of Jobs - $M={20}$, $R={4}$, Azure Packing 2020 Dataset')\n",
    "plt.ylabel(\"Average weighted\\n completion time\")\n",
    "plt.xlabel(r\"Number of resources types\")\n",
    "plt.legend(loc='upper left', prop={'size': 8}, handlelength=3, ncol=2)\n",
    "plt.savefig('resource_sweep.pdf', bbox_inches='tight')\n",
    "plt.show()"
   ],
   "metadata": {
    "collapsed": false
   },
   "id": "d46d5a6de24f5606",
   "outputs": [],
   "execution_count": null
  }
 ],
 "metadata": {
  "kernelspec": {
   "display_name": "Python 3",
   "language": "python",
   "name": "python3"
  },
  "language_info": {
   "codemirror_mode": {
    "name": "ipython",
    "version": 2
   },
   "file_extension": ".py",
   "mimetype": "text/x-python",
   "name": "python",
   "nbconvert_exporter": "python",
   "pygments_lexer": "ipython2",
   "version": "2.7.6"
  }
 },
 "nbformat": 4,
 "nbformat_minor": 5
}
