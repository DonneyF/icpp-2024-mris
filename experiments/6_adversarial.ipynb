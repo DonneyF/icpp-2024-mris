{
 "cells": [
  {
   "cell_type": "markdown",
   "source": [
    "# Adversarial\n",
    "\n",
    "- Adversarial input to emphasize benefit of our algorithm, even online\n",
    "\n",
    "Schedulers:\n",
    "```\n",
    "schedulers = [\n",
    "        MRIS(sort='WSVF'),\n",
    "        OnlinePriorityQueue(sort='WSVF'),\n",
    "        TetrisScheduler(),\n",
    "        BFEXECScheduler()\n",
    "]\n",
    "```"
   ],
   "metadata": {
    "collapsed": false
   },
   "id": "5ef558b93b6f4527"
  },
  {
   "cell_type": "code",
   "source": [
    "import pandas as pd\n",
    "import numpy as np\n",
    "import matplotlib.pyplot as plt\n",
    "import matplotlib as mpl\n",
    "import scienceplots\n",
    "import itertools\n",
    "import matplotlib\n",
    "from pathlib import Path"
   ],
   "metadata": {
    "collapsed": true
   },
   "id": "initial_id",
   "outputs": [],
   "execution_count": null
  },
  {
   "metadata": {},
   "cell_type": "code",
   "source": [
    "plt.style.use(['science'])\n",
    "params = {\n",
    "    \"font.family\": \"serif\",\n",
    "    \"text.usetex\": True,\n",
    "    'text.latex.preamble':\n",
    "        r\"\"\"\n",
    "        \\usepackage{libertine}\n",
    "        \\usepackage[libertine]{newtxmath}\n",
    "        \"\"\",\n",
    "}\n",
    "# https://matplotlib.org/stable/gallery/lines_bars_and_markers/linestyles.html\n",
    "def get_linestyles():\n",
    "     return itertools.cycle([\n",
    "         ('solid', (0, ())),\n",
    "         # ('loosely dotted',        (0, (1, 10))),\n",
    "         ('dotted',                (0, (1, 1))),\n",
    "         # ('densely dotted',        (0, (1, 1))),\n",
    "         ('long dash with offset', (5, (10, 3))),\n",
    "         ('loosely dashed',        (0, (5, 10))),\n",
    "         #('dashed',                (0, (5, 5))),\n",
    "         ('densely dashed',        (0, (5, 1))),\n",
    "    \n",
    "         #('loosely dashdotted',    (0, (3, 10, 1, 10))),\n",
    "         ('dashdotted',            (0, (3, 5, 1, 5))),\n",
    "         ('densely dashdotted',    (0, (3, 1, 1, 1))),\n",
    "    \n",
    "         ('dashdotdotted',         (0, (3, 5, 1, 5, 1, 5))),\n",
    "         ('loosely dashdotdotted', (0, (3, 10, 1, 10, 1, 10))),\n",
    "         ('densely dashdotdotted', (0, (3, 1, 1, 1, 1, 1)))\n",
    "    ])\n",
    "mpl.rcParams.update(params)"
   ],
   "id": "b4f0264459b3429",
   "outputs": [],
   "execution_count": null
  },
  {
   "metadata": {},
   "cell_type": "markdown",
   "source": "# Input Parameters",
   "id": "c4d75526ac747d1b"
  },
  {
   "metadata": {},
   "cell_type": "code",
   "source": [
    "# Number of resources\n",
    "R = 3\n",
    "\n",
    "# Number of jobs\n",
    "N = 2500\n",
    "\n",
    "# Number of machines\n",
    "M = 1\n",
    "\n",
    "# The particular run number analyze\n",
    "RUN_NUMBER = 1\n",
    "\n",
    "# Path to the results folder\n",
    "PATH_TO_RESULTS = Path('./results')"
   ],
   "id": "a6e58b244973eafc",
   "outputs": [],
   "execution_count": null
  },
  {
   "metadata": {},
   "cell_type": "code",
   "source": [
    "df = pd.read_parquet(PATH_TO_RESULTS / Path(f'6_adversarial_{RUN_NUMBER}.parquet'))\n",
    "schedulers = df['scheduler'].unique().tolist()"
   ],
   "id": "ecbf8992e299b434",
   "outputs": [],
   "execution_count": null
  },
  {
   "metadata": {},
   "cell_type": "code",
   "source": "schedulers",
   "id": "e70e3ccda924d569",
   "outputs": [],
   "execution_count": null
  },
  {
   "cell_type": "markdown",
   "source": "# Plot the profile of each scheduler",
   "metadata": {
    "collapsed": false
   },
   "id": "2eb4da884d24777e"
  },
  {
   "cell_type": "code",
   "source": [
    "resource_idx = 0\n",
    "demand_levels = 10\n",
    "fig, axs = plt.subplots(nrows=2, ncols=2, tight_layout=True, dpi=200)\n",
    "fig.set_figheight(3)\n",
    "fig.set_figwidth(6)\n",
    "\n",
    "\n",
    "# axs return value depends on the input rows and cols. Convert to always use 2D ndarray\n",
    "if type(axs) is not np.ndarray:\n",
    "    axs = np.array([[axs]])\n",
    "elif axs.ndim == 1:\n",
    "    axs = axs.reshape(1, -1)\n",
    "\n",
    "axes = axs.flat\n",
    "    \n",
    "for s, scheduler in enumerate(schedulers):\n",
    "        \n",
    "    df_ = df[df['scheduler'] == scheduler]\n",
    "    start_times = df_['S'].to_numpy()\n",
    "    completion_times = df_['C'].to_numpy()\n",
    "    demands = df_['d'].to_numpy()\n",
    "    \n",
    "    x = np.concatenate([np.zeros(1), start_times, completion_times, start_times+1E-12, completion_times-1E-12])\n",
    "    x = np.unique(x)\n",
    "    \n",
    "    x = np.sort(x)\n",
    "    cumulative_resource = np.zeros_like(x)\n",
    "    \n",
    "    stacked_data = []\n",
    "    \n",
    "    for i in range(N):\n",
    "        cumulative_resource += np.where((start_times[i] < x) & (completion_times[i] > x), demands[i][resource_idx], 0) / demand_levels\n",
    "        # cumulative_resource += np.where(((start_times[i]) <= x) & (completion_times[i] > x), demands[i][resource_idx], 0) / demand_levels\n",
    "        stacked_data.append(np.copy(cumulative_resource))\n",
    "    stacked_data.reverse()\n",
    "    for j, data in enumerate(stacked_data):\n",
    "        axes[s].stackplot(x, data, rasterized=True)\n",
    "        axes[s].set_ylim(0, 1.1)\n",
    "        axes[s].set_title(scheduler)\n",
    "        \n",
    "fig.text(0.5, -0.00, 'Time [arb. units]', ha='center')\n",
    "fig.text(-0.01, 0.5, 'Resource usage [arb. units]', va='center', rotation='vertical')\n",
    "# plt.savefig('adversarial.pdf', bbox_inches='tight')\n",
    "plt.show()"
   ],
   "metadata": {
    "collapsed": false
   },
   "id": "d5b19520f67cc23",
   "outputs": [],
   "execution_count": null
  },
  {
   "metadata": {},
   "cell_type": "markdown",
   "source": "# AWCT Metrics",
   "id": "147e6cb1e676ba03"
  },
  {
   "metadata": {},
   "cell_type": "code",
   "source": [
    "awct_data = {}\n",
    "for scheduler in schedulers:\n",
    "    df_ = df[df['scheduler'] == scheduler]\n",
    "    awct = df_['C'].dot(df_['w']) / len(df)\n",
    "    awct_data[scheduler] = awct\n",
    "\n",
    "plt.figure(figsize=(10, 5), dpi=200)\n",
    "bars = plt.barh([str(scheduler) for scheduler in schedulers], awct_data.values(), align='center')\n",
    "# autolabel_h(bars, scientific_notation=True)\n",
    "plt.margins(x=0.10)\n",
    "plt.title(f'One-Shot Comparison - $N={N}$, $M={M}$, $R={R}$')\n",
    "plt.xlabel(r\"Average Weighted Completion Time\")\n",
    "plt.ylabel(\"Scheduler\")\n",
    "plt.tight_layout()\n",
    "# plt.savefig(f'images/experiment9_{dataset.dataset}_{num_jobs}.png')\n",
    "plt.show()"
   ],
   "id": "5719054d60ffd707",
   "outputs": [],
   "execution_count": null
  },
  {
   "metadata": {},
   "cell_type": "code",
   "source": "",
   "id": "af446241cc727871",
   "outputs": [],
   "execution_count": null
  }
 ],
 "metadata": {
  "kernelspec": {
   "display_name": "Python 3",
   "language": "python",
   "name": "python3"
  },
  "language_info": {
   "codemirror_mode": {
    "name": "ipython",
    "version": 2
   },
   "file_extension": ".py",
   "mimetype": "text/x-python",
   "name": "python",
   "nbconvert_exporter": "python",
   "pygments_lexer": "ipython2",
   "version": "2.7.6"
  }
 },
 "nbformat": 4,
 "nbformat_minor": 5
}
