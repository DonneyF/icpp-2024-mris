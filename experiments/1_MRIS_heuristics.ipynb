{
 "cells": [
  {
   "cell_type": "markdown",
   "source": [
    "# MRIS Heuristics\n",
    "\n",
    "- Sweep over the number of jobs for the Azure packing 2020 dataset\n",
    "- 20 machines\n",
    "- 4 resources\n",
    "- We fix the total number of jobs (4.096M jobs)\n",
    "- For each run of $N$, we evenly subsample a subset of this total number\n",
    "- This looks at jobs with $r_\\text{max} = 12.5$\n",
    "\n",
    "Schedulers:\n",
    "```\n",
    "schedulers = [\n",
    "        MRIS(sort='WSVF'),\n",
    "        MRIS(sort='SVF'),\n",
    "        MRIS(sort='WSDF'),\n",
    "        MRIS(sort='SDF'),\n",
    "        MRIS(sort='WSJF'),\n",
    "        MRIS(sort='SJF'),\n",
    "        MRIS(sort='ERF')\n",
    "]\n",
    "```"
   ],
   "metadata": {
    "collapsed": false
   },
   "id": "5ef558b93b6f4527"
  },
  {
   "cell_type": "code",
   "source": [
    "import pandas as pd\n",
    "import numpy as np\n",
    "import matplotlib.pyplot as plt\n",
    "import matplotlib as mpl\n",
    "import scienceplots\n",
    "from pathlib import Path\n",
    "import itertools"
   ],
   "metadata": {
    "collapsed": true
   },
   "id": "initial_id",
   "outputs": [],
   "execution_count": null
  },
  {
   "metadata": {},
   "cell_type": "code",
   "source": [
    "plt.style.use(['science'])\n",
    "params = {\n",
    "    \"font.family\": \"serif\",\n",
    "    \"text.usetex\": True,\n",
    "    'text.latex.preamble':\n",
    "        r\"\"\"\n",
    "        \\usepackage{libertine}\n",
    "        \\usepackage[libertine]{newtxmath}\n",
    "        \"\"\",\n",
    "}\n",
    "# https://matplotlib.org/stable/gallery/lines_bars_and_markers/linestyles.html\n",
    "def get_linestyles():\n",
    "     return itertools.cycle([\n",
    "         ('solid', (0, ())),\n",
    "         # ('loosely dotted',        (0, (1, 10))),\n",
    "         ('dotted',                (0, (1, 1))),\n",
    "         # ('densely dotted',        (0, (1, 1))),\n",
    "         ('long dash with offset', (5, (10, 3))),\n",
    "         ('loosely dashed',        (0, (5, 10))),\n",
    "         #('dashed',                (0, (5, 5))),\n",
    "         ('densely dashed',        (0, (5, 1))),\n",
    "    \n",
    "         #('loosely dashdotted',    (0, (3, 10, 1, 10))),\n",
    "         ('dashdotted',            (0, (3, 5, 1, 5))),\n",
    "         ('densely dashdotted',    (0, (3, 1, 1, 1))),\n",
    "    \n",
    "         ('dashdotdotted',         (0, (3, 5, 1, 5, 1, 5))),\n",
    "         ('loosely dashdotdotted', (0, (3, 10, 1, 10, 1, 10))),\n",
    "         ('densely dashdotdotted', (0, (3, 1, 1, 1, 1, 1)))\n",
    "    ])\n",
    "mpl.rcParams.update(params)"
   ],
   "id": "b4f0264459b3429",
   "outputs": [],
   "execution_count": null
  },
  {
   "metadata": {},
   "cell_type": "markdown",
   "source": "# Input Parameters",
   "id": "5d5b7596f1bffa26"
  },
  {
   "cell_type": "code",
   "source": [
    "N = 4_096_000\n",
    "\n",
    "# This defines the downsample factors used in the simulation\n",
    "DOWNSAMPLE_FACTORS = np.array([4096, 2048, 1024, 512])\n",
    "\n",
    "# Number of runs per downsample factor (each factor must have the same number of runs)\n",
    "NUM_RUNS = 2\n",
    "\n",
    "# Path to the results folder\n",
    "PATH_TO_RESULTS = Path('./results')"
   ],
   "metadata": {
    "collapsed": false
   },
   "id": "e6c1aa2e3a858d8e",
   "outputs": [],
   "execution_count": null
  },
  {
   "metadata": {},
   "cell_type": "code",
   "source": [
    "N_arr = (N / DOWNSAMPLE_FACTORS).astype(int) # The number of jobs processed\n",
    "print(N_arr)"
   ],
   "id": "3829d0517ee1326b",
   "outputs": [],
   "execution_count": null
  },
  {
   "cell_type": "markdown",
   "source": "# Plot AWCT",
   "metadata": {
    "collapsed": false
   },
   "id": "2eb4da884d24777e"
  },
  {
   "cell_type": "code",
   "source": [
    "awct_data = {}\n",
    "for i, downsample_factor in enumerate(DOWNSAMPLE_FACTORS):\n",
    "    for run in range(1, NUM_RUNS + 1):\n",
    "        data = pd.read_parquet(PATH_TO_RESULTS / Path(f'1_MRIS_heuristics_{downsample_factor}_{run}.parquet'))\n",
    "        schedulers = list(data['scheduler'].unique())\n",
    "        for scheduler in schedulers:\n",
    "            df = data[data['scheduler'] == scheduler]\n",
    "            weighted_completion_time = df['C'].dot(df['w']) / len(df)\n",
    "            vals = awct_data.get(scheduler, np.zeros(shape=(len(DOWNSAMPLE_FACTORS), NUM_RUNS)).astype(float))\n",
    "            vals[i][run-1] = weighted_completion_time\n",
    "            awct_data[scheduler] = vals"
   ],
   "metadata": {
    "collapsed": false
   },
   "id": "d5b19520f67cc23",
   "outputs": [],
   "execution_count": null
  },
  {
   "metadata": {},
   "cell_type": "code",
   "source": [
    "awct_x = {scheduler:np.mean(data, axis=1) for scheduler, data in awct_data.items()}\n",
    "awct_error = {scheduler:[np.std(data, axis=1)] for scheduler, data in awct_data.items()}"
   ],
   "id": "679b080c224d06d5",
   "outputs": [],
   "execution_count": null
  },
  {
   "cell_type": "code",
   "source": [
    "plt.figure(figsize=(6, 3), dpi=200)\n",
    "\n",
    "N_thousands = (N_arr / 1000).astype(float)\n",
    "linestyles = get_linestyles()\n",
    "for scheduler, weighted_completion_times in awct_x.items():\n",
    "    plt.plot(N_arr, weighted_completion_times, label=scheduler, linestyle=next(linestyles)[1])\n",
    "    plt.errorbar(N_arr, weighted_completion_times, yerr=awct_error[scheduler])\n",
    "plt.xscale('log')\n",
    "plt.xticks(N_arr, N_arr)\n",
    "plt.yscale('log', base=2)\n",
    "plt.ylabel(\"Average weighted\\n completion time\")\n",
    "plt.xlabel(r\"Number of jobs released in 12.5 days\")\n",
    "plt.legend(prop={'size': 8}, handlelength=3, ncol=2)\n",
    "#plt.savefig('awct_comparison.pdf', bbox_inches='tight')\n",
    "plt.show()"
   ],
   "metadata": {
    "collapsed": false
   },
   "id": "d46d5a6de24f5606",
   "outputs": [],
   "execution_count": null
  },
  {
   "metadata": {},
   "cell_type": "code",
   "source": "",
   "id": "b7b6ad96d0b630a4",
   "outputs": [],
   "execution_count": null
  }
 ],
 "metadata": {
  "kernelspec": {
   "display_name": "Python 3",
   "language": "python",
   "name": "python3"
  },
  "language_info": {
   "codemirror_mode": {
    "name": "ipython",
    "version": 2
   },
   "file_extension": ".py",
   "mimetype": "text/x-python",
   "name": "python",
   "nbconvert_exporter": "python",
   "pygments_lexer": "ipython2",
   "version": "2.7.6"
  }
 },
 "nbformat": 4,
 "nbformat_minor": 5
}
